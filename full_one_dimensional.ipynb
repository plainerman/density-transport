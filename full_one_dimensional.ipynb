{
 "cells": [
  {
   "cell_type": "code",
   "execution_count": 1,
   "metadata": {
    "pycharm": {
     "name": "#%%\n"
    }
   },
   "outputs": [],
   "source": [
    "# For auto-reloading external modules see\n",
    "# http://stackoverflow.com/questions/1907993/autoreload-of-modules-in-ipython\n",
    "%load_ext autoreload\n",
    "%autoreload 2\n",
    "\n",
    "bins = 200\n",
    "\n",
    "import numpy\n",
    "import observations.dimensions.one.sampling as observe\n",
    "import torch\n",
    "import flows.utils\n",
    "\n",
    "from defaults.plot import *\n",
    "\n",
    "enable_latex_export()"
   ]
  },
  {
   "cell_type": "code",
   "execution_count": 2,
   "metadata": {
    "pycharm": {
     "name": "#%%\n"
    }
   },
   "outputs": [
    {
     "data": {
      "text/plain": "<Figure size 129.6x90.72 with 1 Axes>",
      "image/png": "[encoded data removed]"
     },
     "metadata": {
      "needs_background": "light"
     },
     "output_type": "display_data"
    },
    {
     "data": {
      "text/plain": "<Figure size 129.6x90.72 with 1 Axes>",
      "image/png": "[encoded data removed]"
     },
     "metadata": {
      "needs_background": "light"
     },
     "output_type": "display_data"
    }
   ],
   "source": [
    "ys = observe.sample(1)\n",
    "\n",
    "# Lower bins so figure is better (singularity makes it hard to see)\n",
    "plt.hist(numpy.transpose(ys)[0], bins=80, density = True, rasterized=True)\n",
    "plt.title(r\"Histogram of $y$\")\n",
    "plt.xlabel(r\"$y$\")\n",
    "plt.ylabel(\"Density\")\n",
    "no_axis(x=True)\n",
    "plt.savefig(\"figures/1d/density-y.pdf\", dpi=dpi, bbox_inches='tight')\n",
    "plt.show()\n",
    "\n",
    "plt.title(r\"Real transport to $y$\")\n",
    "plt.plot(numpy.linspace(0, 1,observe.samplesize), [observe.T(x) for x in numpy.linspace(0, 1, observe.samplesize)])\n",
    "plt.xlabel(\"$x$\")\n",
    "plt.ylabel(r\"$y$\")\n",
    "plt.xlim(0, 1)\n",
    "plt.ylim(0, 1)\n",
    "plt.savefig(\"figures/1d/push-forward-uniform-y-unknown.pdf\", dpi=dpi, bbox_inches='tight')\n",
    "plt.show()"
   ]
  },
  {
   "cell_type": "code",
   "execution_count": 17,
   "outputs": [
    {
     "name": "stdout",
     "output_type": "stream",
     "text": [
      "step: 0, loss: 1.510963797569275\n",
      "step: 200, loss: -0.34153011441230774\n",
      "step: 400, loss: -0.46544626355171204\n",
      "step: 600, loss: -0.48226046562194824\n",
      "step: 800, loss: -0.4487907886505127\n",
      "step: 1000, loss: -0.489418089389801\n",
      "step: 1200, loss: -0.4912360608577728\n",
      "step: 1400, loss: -0.4921676814556122\n",
      "step: 1600, loss: -0.4927823543548584\n"
     ]
    }
   ],
   "source": [
    "# We can try to just learn the density y, by applying a normalizing flow to the samples\n",
    "learning_ys = numpy.transpose(observe.sample(0))[0].reshape(-1, 1)\n",
    "\n",
    "y_flow_dist, y_transform = flows.utils.normal_to_samples(learning_ys, normalize=True, steps=1601, lr=1e-2)\n",
    "y_samples = y_flow_dist.sample(torch.Size([observe.samplesize])).detach().numpy()"
   ],
   "metadata": {
    "collapsed": false,
    "pycharm": {
     "name": "#%%\n"
    }
   }
  },
  {
   "cell_type": "code",
   "execution_count": 18,
   "outputs": [
    {
     "data": {
      "text/plain": "<Figure size 129.6x90.72 with 1 Axes>",
      "image/png": "[encoded data removed]"
     },
     "metadata": {
      "needs_background": "light"
     },
     "output_type": "display_data"
    },
    {
     "data": {
      "text/plain": "<Figure size 129.6x90.72 with 1 Axes>",
      "image/png": "[encoded data removed]"
     },
     "metadata": {
      "needs_background": "light"
     },
     "output_type": "display_data"
    },
    {
     "data": {
      "text/plain": "<Figure size 129.6x90.72 with 1 Axes>",
      "image/png": "[encoded data removed]"
     },
     "metadata": {
      "needs_background": "light"
     },
     "output_type": "display_data"
    }
   ],
   "source": [
    "plt.title(\"Approximated $y$-density\")\n",
    "plt.hist(numpy.transpose(observe.sample(0))[0], bins=80, density = True, label=\"Sampled Density of $y$\", rasterized=True)\n",
    "plt.hist(y_samples, bins=bins, density=True, label=\"Approximated Density of $y$\", rasterized=True)\n",
    "plt.xlabel(\"$y$\")\n",
    "plt.ylabel(\"Density\")\n",
    "no_axis(x=True)\n",
    "plt.xlim(0, 1)\n",
    "#plt.legend()\n",
    "plt.savefig(\"figures/1d/density-y-nf.pdf\", dpi=dpi, bbox_inches='tight')\n",
    "plt.show()\n",
    "\n",
    "from scipy.special import erfinv\n",
    "Gauss = lambda x, mu, sigma: mu + numpy.sqrt(2)*sigma*erfinv(2*x-1)\n",
    "standard_gauss = numpy.vectorize(lambda x: Gauss(x, 0, 1))\n",
    "\n",
    "input = numpy.linspace(0, 1, 10002)[1:-1] # the erfinv causes problems with the bounds, so we remove 0 and 1\n",
    "input_normal = standard_gauss(input)\n",
    "mapped = y_transform(torch.tensor([[x] for x in input_normal])).detach().numpy()\n",
    "\n",
    "plt.title(\"Direct transport to $y$\")\n",
    "plt.plot(input, mapped, color=TUMAccentOrange)\n",
    "plt.xlabel(r\"$x$\")\n",
    "plt.ylabel(\"$y$\")\n",
    "plt.xlim(-0.005, 1)\n",
    "plt.ylim(0, 1.025)\n",
    "plt.savefig(\"figures/1d/push-forward-uniform-y-direct.pdf\", dpi=dpi, bbox_inches='tight')\n",
    "plt.show()\n",
    "\n",
    "plt.title(r\"Transports to $y$\")\n",
    "plt.plot(input, [observe.T(x) for x in input], label=\"Real (unknown) push-forward\")\n",
    "plt.plot(input, mapped, label=\"Invertible push-forward\")\n",
    "plt.xlabel(r\"$x$\")\n",
    "plt.ylabel(r\"$y$\")\n",
    "plt.xlim(0, 1)\n",
    "plt.ylim(0, 1)\n",
    "#plt.legend()\n",
    "plt.savefig(\"figures/1d/push-forward-uniform-y-direct-comparison.pdf\", dpi=dpi, bbox_inches='tight')\n",
    "plt.show()"
   ],
   "metadata": {
    "collapsed": false,
    "pycharm": {
     "name": "#%%\n"
    }
   }
  },
  {
   "cell_type": "code",
   "execution_count": 211,
   "metadata": {
    "pycharm": {
     "name": "#%%\n"
    }
   },
   "outputs": [
    {
     "data": {
      "text/plain": "<Figure size 129.6x90.72 with 1 Axes>",
      "image/png": "[encoded data removed]"
     },
     "metadata": {
      "needs_background": "light"
     },
     "output_type": "display_data"
    }
   ],
   "source": [
    "#plt.scatter(numpy.transpose(ys)[0], numpy.transpose(ys)[1], s = 0.5)\n",
    "plt.title(\"Time delay embedding\")\n",
    "plt.plot(numpy.transpose(ys)[1], numpy.transpose(ys)[0])\n",
    "plt.xlabel('$y_{n+1}$')\n",
    "plt.ylabel('$y_{n}$')\n",
    "plt.savefig(\"figures/1d/diffeomorphic.pdf\", dpi=dpi, bbox_inches='tight')\n",
    "plt.show()"
   ]
  },
  {
   "cell_type": "code",
   "execution_count": 3,
   "outputs": [
    {
     "data": {
      "text/plain": "<Figure size 129.6x90.72 with 1 Axes>",
      "image/png": "[encoded data removed]"
     },
     "metadata": {
      "needs_background": "light"
     },
     "output_type": "display_data"
    },
    {
     "data": {
      "text/plain": "<Figure size 129.6x90.72 with 1 Axes>",
      "image/png": "[encoded data removed]"
     },
     "metadata": {
      "needs_background": "light"
     },
     "output_type": "display_data"
    },
    {
     "data": {
      "text/plain": "<Figure size 129.6x90.72 with 1 Axes>",
      "image/png": "[encoded data removed]"
     },
     "metadata": {
      "needs_background": "light"
     },
     "output_type": "display_data"
    },
    {
     "data": {
      "text/plain": "<Figure size 129.6x90.72 with 1 Axes>",
      "image/png": "[encoded data removed]"
     },
     "metadata": {
      "needs_background": "light"
     },
     "output_type": "display_data"
    }
   ],
   "source": [
    "from observations.utils import arclen\n",
    "\n",
    "alen = arclen([numpy.transpose(ys)[0], numpy.transpose(ys)[1]])\n",
    "\n",
    "ys_0 = (numpy.transpose(ys)[0])[1:]\n",
    "def y_by_s(s):\n",
    "    #TODO: this could be done via interpolation, but we just search for the first one that is bigger\n",
    "    return ys_0[numpy.argmax(alen >= s)]\n",
    "\n",
    "y_by_s_vectorized = numpy.vectorize(lambda x: y_by_s(x))\n",
    "\n",
    "plt.title(\"Arc length of $(y_{n+1}, y_n)$\") # linear on 0-1\n",
    "plt.plot(numpy.linspace(0, 1, observe.samplesize)[1:], alen)\n",
    "plt.xlim(0, 1)\n",
    "plt.xlabel(\"Position on $(y_{n+1}, y_n)$\")\n",
    "plt.ylabel(\"$s$\")\n",
    "plt.savefig(\"figures/1d/arc-length.pdf\", dpi=dpi, bbox_inches='tight')\n",
    "plt.show()\n",
    "\n",
    "plt.title(\"Density of arc length\")\n",
    "plt.hist(alen, bins=bins+1, density=True, label=\"Sampled Density of $s$\", rasterized=True)\n",
    "plt.xlabel(\"$s$\")\n",
    "plt.ylabel(\"Density\")\n",
    "no_axis(x=True)\n",
    "plt.savefig(\"figures/1d/density-s.pdf\", dpi=dpi*2, bbox_inches='tight')\n",
    "plt.show()\n",
    "\n",
    "plt.title(\"$y(s)$\")\n",
    "plt.plot(alen, (numpy.transpose(ys)[0])[1:])\n",
    "plt.xlabel('$s$')\n",
    "plt.ylabel('$y_{n}$')\n",
    "plt.savefig(\"figures/1d/y-of-s.pdf\", dpi=dpi, bbox_inches='tight')\n",
    "plt.show()\n",
    "\n",
    "plt.title(\"Reconstruction, but actually this is just $T(x)$ exactly (just more steps)\") # so we don't really know our x\n",
    "plt.plot(numpy.linspace(0, 1, len(alen)), [y_by_s(a) for a in alen])\n",
    "plt.show()"
   ],
   "metadata": {
    "collapsed": false,
    "pycharm": {
     "name": "#%%\n"
    }
   }
  },
  {
   "cell_type": "markdown",
   "source": [
    "## This was mostly everything that is given by the sampling process and construction of the arc length $s$\n",
    "We now learn the map from $s$ to $x$ (or vice versa) and can reconstruct the original curve and density"
   ],
   "metadata": {
    "collapsed": false,
    "pycharm": {
     "name": "#%% md\n"
    }
   }
  },
  {
   "cell_type": "code",
   "execution_count": 7,
   "outputs": [
    {
     "name": "stdout",
     "output_type": "stream",
     "text": [
      "step: 0, loss: 7.0765790939331055\n",
      "step: 200, loss: 0.9392451643943787\n",
      "step: 400, loss: 0.6634511351585388\n",
      "step: 600, loss: 0.6382662057876587\n",
      "step: 800, loss: 0.6302546858787537\n",
      "step: 1000, loss: 0.6261332035064697\n",
      "step: 1200, loss: 0.6233848333358765\n",
      "step: 1400, loss: 0.6213790774345398\n",
      "step: 1600, loss: 0.6198636293411255\n",
      "step: 1800, loss: 0.6186322569847107\n",
      "step: 2000, loss: 0.6176677942276001\n",
      "step: 2200, loss: 0.6168368458747864\n",
      "step: 2400, loss: 0.6161412000656128\n",
      "step: 2600, loss: 0.6155693531036377\n",
      "step: 2800, loss: 0.6150609850883484\n",
      "step: 3000, loss: 0.6146096587181091\n",
      "Wall time: 2min 49s\n"
     ]
    }
   ],
   "source": [
    "%%time\n",
    "\n",
    "flow_dist, transform = flows.utils.normal_to_samples(alen.reshape(-1, 1), steps=3001, lr=5e-3)\n",
    "s_samples = flow_dist.sample(torch.Size([observe.samplesize])).detach().numpy()"
   ],
   "metadata": {
    "collapsed": false,
    "pycharm": {
     "name": "#%%\n"
    }
   }
  },
  {
   "cell_type": "code",
   "execution_count": 231,
   "outputs": [
    {
     "data": {
      "text/plain": "<Figure size 129.6x90.72 with 1 Axes>",
      "image/png": "[encoded data removed]"
     },
     "metadata": {
      "needs_background": "light"
     },
     "output_type": "display_data"
    }
   ],
   "source": [
    "plt.title(\"Approximated $s$-density\")\n",
    "plt.hist(alen, bins=400, density=True, label=\"Sampled Density of $s$\", rasterized=True)\n",
    "plt.hist(s_samples, bins=400, density=True, label='Approximated Density of $s$', rasterized=True)\n",
    "plt.xlabel(\"$s$\")\n",
    "plt.ylabel(\"Density\")\n",
    "no_axis(x=True)\n",
    "plt.xlim([0, max(alen)])\n",
    "#plt.legend()\n",
    "plt.savefig(\"figures/1d/density-s-nf.pdf\", dpi=dpi, bbox_inches='tight')\n",
    "plt.show()"
   ],
   "metadata": {
    "collapsed": false,
    "pycharm": {
     "name": "#%%\n"
    }
   }
  },
  {
   "cell_type": "code",
   "execution_count": 252,
   "outputs": [
    {
     "data": {
      "text/plain": "<Figure size 129.6x90.72 with 1 Axes>",
      "image/png": "[encoded data removed]"
     },
     "metadata": {
      "needs_background": "light"
     },
     "output_type": "display_data"
    },
    {
     "data": {
      "text/plain": "<Figure size 129.6x90.72 with 1 Axes>",
      "image/png": "[encoded data removed]"
     },
     "metadata": {
      "needs_background": "light"
     },
     "output_type": "display_data"
    }
   ],
   "source": [
    "input = numpy.linspace(-3, 3, 10000)\n",
    "mapped = transform(torch.tensor([[x] for x in input])).detach().numpy()\n",
    "\n",
    "plt.title(r\"Push-forward from $\\mathcal{N}(0,1)$ to $s$\")\n",
    "plt.plot(input, mapped)\n",
    "plt.xlabel(\"$x$\")\n",
    "plt.ylabel(\"$s$\")\n",
    "plt.savefig(\"figures/1d/push-forward-normal-arc-length.pdf\", dpi=dpi, bbox_inches='tight')\n",
    "plt.show()\n",
    "\n",
    "plt.title(\"Normal transport to $y$\")\n",
    "plt.xlabel(\"$x$\")\n",
    "plt.ylabel(\"$y$\")\n",
    "plt.ylim(0,1)\n",
    "plt.plot(input, y_by_s_vectorized(mapped))\n",
    "plt.savefig(\"figures/1d/push-forward-normal-y.pdf\", dpi=dpi, bbox_inches='tight')\n",
    "plt.show()"
   ],
   "metadata": {
    "collapsed": false,
    "pycharm": {
     "name": "#%%\n"
    }
   }
  },
  {
   "cell_type": "code",
   "execution_count": 10,
   "outputs": [
    {
     "name": "stdout",
     "output_type": "stream",
     "text": [
      "step: 0, loss: 3.262956142425537\n",
      "step: 200, loss: 1.3363337516784668\n",
      "step: 400, loss: 1.2155482769012451\n",
      "step: 600, loss: 1.189824104309082\n",
      "step: 800, loss: 1.1841189861297607\n",
      "step: 1000, loss: 1.1817539930343628\n",
      "step: 1200, loss: 1.1803247928619385\n",
      "step: 1400, loss: 1.1792714595794678\n",
      "step: 1600, loss: 1.1786634922027588\n",
      "Wall time: 2min 56s\n"
     ]
    }
   ],
   "source": [
    "%%time\n",
    "\n",
    "# Now we change the assumptions\n",
    "import observations.dimensions.one.multimodal as multimodal\n",
    "\n",
    "X_bimodal = multimodal.simulate_bimodal()\n",
    "flow_dist_bimodal, transform_bimodal = flows.utils.normal_to_samples(X_bimodal, steps=1601, lr=5e-3)\n",
    "bimodal_samples = flow_dist_bimodal.sample(torch.Size([observe.samplesize])).detach().numpy()"
   ],
   "metadata": {
    "collapsed": false,
    "pycharm": {
     "name": "#%%\n"
    }
   }
  },
  {
   "cell_type": "code",
   "execution_count": 236,
   "outputs": [
    {
     "data": {
      "text/plain": "<Figure size 129.6x90.72 with 1 Axes>",
      "image/png": "[encoded data removed]"
     },
     "metadata": {
      "needs_background": "light"
     },
     "output_type": "display_data"
    }
   ],
   "source": [
    "bimodal_samples_normal = transform_bimodal.inv(torch.tensor(bimodal_samples))\n",
    "bimodal_samples_s = transform(bimodal_samples_normal)\n",
    "\n",
    "plt.hist(y_by_s_vectorized(bimodal_samples_s.detach().numpy()), bins=bins, density=True)\n",
    "plt.show()"
   ],
   "metadata": {
    "collapsed": false,
    "pycharm": {
     "name": "#%%\n"
    }
   }
  },
  {
   "cell_type": "code",
   "execution_count": 253,
   "outputs": [
    {
     "data": {
      "text/plain": "<Figure size 129.6x90.72 with 1 Axes>",
      "image/png": "[encoded data removed]"
     },
     "metadata": {
      "needs_background": "light"
     },
     "output_type": "display_data"
    }
   ],
   "source": [
    "mapped_bimodal = transform_bimodal.inv(torch.tensor([[x] for x in input])).detach().numpy().reshape(-1)\n",
    "mapped_bimodal_normal = transform(torch.tensor([[x] for x in mapped_bimodal])).detach().numpy().reshape(-1)\n",
    "\n",
    "plt.title(\"Bimodal transport to $y$\")\n",
    "plt.xlabel(\"$x$\")\n",
    "plt.ylabel(\"$y$\")\n",
    "plt.ylim(0,1)\n",
    "plt.plot(input, y_by_s_vectorized(mapped_bimodal_normal))\n",
    "plt.savefig(\"figures/1d/push-forward-bimodal-y.pdf\", dpi=dpi, bbox_inches='tight')\n",
    "plt.show()"
   ],
   "metadata": {
    "collapsed": false,
    "pycharm": {
     "name": "#%%\n"
    }
   }
  },
  {
   "cell_type": "code",
   "execution_count": 250,
   "outputs": [
    {
     "data": {
      "text/plain": "<Figure size 129.6x90.72 with 1 Axes>",
      "image/png": "[encoded data removed]"
     },
     "metadata": {
      "needs_background": "light"
     },
     "output_type": "display_data"
    },
    {
     "data": {
      "text/plain": "<Figure size 129.6x90.72 with 1 Axes>",
      "image/png": "[encoded data removed]"
     },
     "metadata": {
      "needs_background": "light"
     },
     "output_type": "display_data"
    },
    {
     "data": {
      "text/plain": "<Figure size 129.6x90.72 with 1 Axes>",
      "image/png": "[encoded data removed]"
     },
     "metadata": {
      "needs_background": "light"
     },
     "output_type": "display_data"
    }
   ],
   "source": [
    "# We now look at the unifrom transported\n",
    "\n",
    "input = numpy.linspace(0, 1, 10002)[1:-1] # the erfinv causes problems with the bounds, so we remove 0 and 1\n",
    "input_normal = standard_gauss(input)\n",
    "\n",
    "# TODO delete? It is a good sanity check\n",
    "plt.title(\"Mapping the uniform to a normal distribution. In there as sanity check\")\n",
    "plt.hist(input_normal, bins=100, rasterized=True)\n",
    "plt.show()\n",
    "\n",
    "mapped = transform(torch.tensor([[x] for x in input_normal])).detach().numpy()\n",
    "\n",
    "plt.title(\"Visualization of the map, transforming a uniform distribution to a normal distribution and then to $s$\")\n",
    "plt.plot(input, mapped)\n",
    "plt.plot(numpy.linspace(0, 1, len(alen)), alen)\n",
    "plt.show()\n",
    "\n",
    "uniform_real_s_y = y_by_s_vectorized(mapped)\n",
    "plt.title(r\"Reconstructed transport\")\n",
    "plt.plot(input, [observe.T(x) for x in input], label=\"Real (unknown) push-forward\")\n",
    "plt.plot(input, uniform_real_s_y, label=\"Approximated push-forward\")\n",
    "plt.xlabel(\"$x$\")\n",
    "plt.ylabel(\"$y$\")\n",
    "#plt.legend()\n",
    "plt.xlim(0, 1)\n",
    "plt.ylim(0, 1)\n",
    "plt.savefig(\"figures/1d/push-forward-uniform-y.pdf\", dpi=dpi, bbox_inches='tight')\n",
    "plt.show()"
   ],
   "metadata": {
    "collapsed": false,
    "pycharm": {
     "name": "#%%\n"
    }
   }
  },
  {
   "cell_type": "code",
   "execution_count": 267,
   "outputs": [
    {
     "data": {
      "text/plain": "<Figure size 129.6x90.72 with 1 Axes>",
      "image/png": "[encoded data removed]"
     },
     "metadata": {
      "needs_background": "light"
     },
     "output_type": "display_data"
    },
    {
     "data": {
      "text/plain": "<Figure size 129.6x90.72 with 1 Axes>",
      "image/png": "[encoded data removed]"
     },
     "metadata": {
      "needs_background": "light"
     },
     "output_type": "display_data"
    }
   ],
   "source": [
    "plt.title(\"The density of y if we sample from normal, normalize flow to learned function s and then do $y(s)$\")\n",
    "plt.hist(numpy.transpose(observe.sample(0))[0], bins = 100, density = True, label=\"original sampling\", rasterized=True)\n",
    "plt.hist(y_by_s_vectorized(s_samples), bins=100, density=True, label=\"normal to y\", rasterized=True)\n",
    "plt.legend()\n",
    "plt.show()\n",
    "\n",
    "plt.title(\"Reconstructed $y$-density\")\n",
    "plt.hist(numpy.transpose(observe.sample(0))[0], bins=80, density = True, label=\"Sampled Density of $y$\", rasterized=True)\n",
    "plt.hist(y_by_s_vectorized(mapped), bins=80, density=True, label=\"Approximated Density of $y$\", rasterized=True)\n",
    "#plt.legend(loc=\"upper left\")\n",
    "plt.ylabel(\"Density\")\n",
    "plt.xlabel(\"$x$\")\n",
    "no_axis(x=True)\n",
    "plt.savefig(\"figures/1d/density-y-reconstructed.pdf\", dpi=dpi, bbox_inches='tight')\n",
    "plt.show()"
   ],
   "metadata": {
    "collapsed": false,
    "pycharm": {
     "name": "#%%\n"
    }
   }
  },
  {
   "cell_type": "markdown",
   "source": [
    "## Now we look into learning the dynamic on the arc length s"
   ],
   "metadata": {
    "collapsed": false,
    "pycharm": {
     "name": "#%% md\n"
    }
   }
  },
  {
   "cell_type": "code",
   "execution_count": 4,
   "outputs": [
    {
     "data": {
      "text/plain": "<Figure size 129.6x90.72 with 1 Axes>",
      "image/png": "[encoded data removed]"
     },
     "metadata": {
      "needs_background": "light"
     },
     "output_type": "display_data"
    },
    {
     "data": {
      "text/plain": "<Figure size 129.6x90.72 with 1 Axes>",
      "image/png": "[encoded data removed]"
     },
     "metadata": {
      "needs_background": "light"
     },
     "output_type": "display_data"
    }
   ],
   "source": [
    "from observations.utils import lags\n",
    "dt = 1 / observe.samplesize\n",
    "\n",
    "training_tuples = list(zip(*lags(arclen([numpy.transpose(ys)[0], numpy.transpose(ys)[1]]), 1)))\n",
    "real_difference = [abs(t0 - t1) / dt for t0, t1 in training_tuples]\n",
    "\n",
    "plt.title(\"The difference between the arc length tuples\") # TODO it  is not log scaled as of now\n",
    "plt.plot(numpy.linspace(0, 1, observe.samplesize)[2:], real_difference)\n",
    "plt.show()\n",
    "\n",
    "s = arclen([numpy.transpose(ys)[0], numpy.transpose(ys)[1]])\n",
    "plt.title(\"Density of Arc Length of $y_{n}, y_{n+1}$\")\n",
    "plt.hist(s, bins=100, density=True, rasterized=True)\n",
    "plt.xlabel(\"Arc Length $s$ of $y_{n}, y_{n+1}$\")\n",
    "plt.ylabel(\"Density\")\n",
    "plt.show()"
   ],
   "metadata": {
    "collapsed": false,
    "pycharm": {
     "name": "#%%\n"
    }
   }
  },
  {
   "cell_type": "code",
   "execution_count": 5,
   "metadata": {
    "pycharm": {
     "name": "#%%\n"
    }
   },
   "outputs": [],
   "source": [
    "import dynamics.nets as nets\n",
    "import dynamics.utils\n",
    "import torch.nn as nn\n",
    "from scipy.integrate import solve_ivp\n",
    "\n",
    "def f(t, y):\n",
    "    return model.one_step(torch.FloatTensor([y])).detach().numpy()[0]\n",
    "\n",
    "def s_n1(model, s_n):\n",
    "    return model(torch.tensor([[s_n]]).float()).item()\n",
    "\n",
    "def s_n1_tensor(model, s_n):\n",
    "    return model(s_n.float())\n",
    "\n",
    "def show_model(model):\n",
    "    fitted_values = s_n1_tensor(model, torch.unsqueeze(torch.tensor(numpy.transpose(training_tuples)[0]), 1))\n",
    "    training_tuples_fitted = torch.cat((torch.unsqueeze(torch.tensor(numpy.transpose(training_tuples)[0]), 1), fitted_values), 1).detach().numpy()\n",
    "\n",
    "    difference = numpy.abs(training_tuples_fitted[:, 0] - training_tuples_fitted[:, 1]) / dt\n",
    "    t_eval = numpy.linspace(0, observe.samplesize * dt, observe.samplesize)\n",
    "    sol = solve_ivp(f, [0, observe.samplesize * dt], [0], t_eval=t_eval)\n",
    "\n",
    "    plt.title(\"Derivative of $s$\") #  $(s_n, s_{n+1}) -> | s_{n+1} - s_{n}|$\n",
    "    plt.plot(numpy.linspace(0, 1, observe.samplesize)[2:], real_difference, label=\"Observed Samples\")\n",
    "    plt.plot(numpy.linspace(0, 1, observe.samplesize)[2:], difference, label=\"Neural Prediction\", color=TUMAccentGreen) # given s_n calculate s_n+1\n",
    "    # TODO: INFO: This following line is basically identical, but we would have to vectorize it and I do not have any more time as of now\n",
    "    #plt.plot(numpy.linspace(0, 1, observe.samplesize)[2:], [f(0, [x]) for x in numpy.transpose(training_tuples)[0]], label=\"Neural Prediction\", color=TUMAccentGreen) # given s_n calculate s_n+1\n",
    "\n",
    "    plt.xlabel(\"Position on $(y_{n+1}, y_n)$\")\n",
    "    plt.ylabel(\"Gradient\")\n",
    "    #plt.legend()\n",
    "    plt.savefig(\"figures/1d/s-dynamics-gradiant.pdf\", dpi=dpi, bbox_inches='tight')\n",
    "    plt.show()\n",
    "\n",
    "    plt.title(\"Arc length of $(y_{n+1}, y_n)$\")\n",
    "    plt.plot(t_eval[1:], alen, label=\"Observed Samples\")\n",
    "    plt.plot(t_eval, sol.y[0], label=\"Integrated Neural Prediction\", color=TUMAccentGreen)\n",
    "    plt.ylabel(\"s\")\n",
    "    plt.xlabel(\"Position on $(y_{n+1}, y_n)$\")\n",
    "    #plt.legend()\n",
    "    plt.savefig(\"figures/1d/s-dynamics-arc-length.pdf\", dpi=dpi, bbox_inches='tight')\n",
    "    plt.show()\n",
    "\n",
    "    plt.title(\"Prediction of $s_{n+1}$ given $s_n$\")\n",
    "    plt.plot(numpy.linspace(0, s[-1], 1000), [s_n1(model, x) for x in numpy.linspace(0, s[-1], 1000)], label = \"$i = 1$, $y_{n}, y_{n+1}$\", color = \"green\")\n",
    "    plt.xlabel(\"$s_{n}$\")\n",
    "    plt.ylabel(\"$s_{n+1}$\")\n",
    "    plt.show()\n",
    "\n",
    "def train_model():\n",
    "    model = nets.RK4N(input_size=1, num_param=1, hidden_size=20, h=dt, num_hidden_layers=2)\n",
    "\n",
    "    criterion = nn.L1Loss()\n",
    "    optimizer = torch.optim.Adam(model.parameters(), lr=5e-3, amsgrad=True)\n",
    "    #optimizer = torch.optim.SGD(model.parameters(), lr=0.001, momentum=0.9, weight_decay=0.01)\n",
    "    train_loader, val_loader = dynamics.utils.training_validator_splitter(training_tuples, bs=300)\n",
    "\n",
    "    # Losses\n",
    "    train_losses = []\n",
    "    val_losses = []\n",
    "    min_val_loss = 1e100\n",
    "\n",
    "    for epoch in range(1, 2500):  # loop over the dataset multiple times\n",
    "        train_loss = 0.0\n",
    "        for _, (inputs, labels) in enumerate(train_loader, 0):\n",
    "            inputs = torch.unsqueeze(inputs, 1).float()\n",
    "            labels = torch.unsqueeze(labels, 1).float()\n",
    "\n",
    "            optimizer.zero_grad()\n",
    "\n",
    "            outputs = model(inputs)\n",
    "\n",
    "            loss = criterion(outputs, labels)\n",
    "            loss.backward()\n",
    "\n",
    "            optimizer.step()\n",
    "\n",
    "            # For statistics\n",
    "            train_loss += loss.item()\n",
    "\n",
    "        train_loss /= len(train_loader)\n",
    "        train_losses.append(train_loss)\n",
    "\n",
    "        val_loss = 0.0\n",
    "        with torch.no_grad():\n",
    "            for _, (inputs, labels) in enumerate(train_loader, 0):\n",
    "                inputs = torch.unsqueeze(inputs, 1).float()\n",
    "                labels = torch.unsqueeze(labels, 1).float()\n",
    "\n",
    "                outputs = model(inputs)\n",
    "                loss = criterion(outputs, labels)\n",
    "                val_loss += loss.item()\n",
    "\n",
    "        val_loss /= len(val_loader)\n",
    "        val_losses.append(val_loss)\n",
    "        print('[Epoch: %3d] training loss: %.9f  validation loss: %.9f' %\n",
    "                (epoch, train_loss, val_loss))\n",
    "\n",
    "        if  val_loss < min_val_loss:\n",
    "            min_val_loss = val_loss\n",
    "\n",
    "            show_model(model)\n",
    "\n",
    "        model.save(\"full_one_dimensional/non_normalized/\" + str(epoch) + \".model\")\n",
    "\n",
    "    plt.plot(train_losses, label=\"training loss\")\n",
    "    plt.plot(val_losses, label=\"validation loss\")\n",
    "    plt.yscale(\"log\")\n",
    "    plt.legend()\n",
    "    plt.show()\n",
    "\n",
    "    return model"
   ]
  },
  {
   "cell_type": "code",
   "execution_count": 6,
   "outputs": [
    {
     "data": {
      "text/plain": "<Figure size 129.6x90.72 with 1 Axes>",
      "image/png": "[encoded data removed]"
     },
     "metadata": {
      "needs_background": "light"
     },
     "output_type": "display_data"
    },
    {
     "data": {
      "text/plain": "<Figure size 129.6x90.72 with 1 Axes>",
      "image/png": "[encoded data removed]"
     },
     "metadata": {
      "needs_background": "light"
     },
     "output_type": "display_data"
    },
    {
     "data": {
      "text/plain": "<Figure size 129.6x90.72 with 1 Axes>",
      "image/png": "[encoded data removed]"
     },
     "metadata": {
      "needs_background": "light"
     },
     "output_type": "display_data"
    }
   ],
   "source": [
    "# To actually train the model use the following line:\n",
    "# On my machine it took a while (about 30min?)\n",
    "#model = train_model()\n",
    "\n",
    "model = torch.load(\"models/1D-arclength-trained.model\")\n",
    "model.eval()\n",
    "\n",
    "show_model(model)"
   ],
   "metadata": {
    "collapsed": false,
    "pycharm": {
     "name": "#%%\n"
    }
   }
  },
  {
   "cell_type": "code",
   "execution_count": 18,
   "metadata": {
    "pycharm": {
     "name": "#%%\n"
    }
   },
   "outputs": [
    {
     "name": "stdout",
     "output_type": "stream",
     "text": [
      "0.0%\n",
      "20.0%\n",
      "40.0%\n",
      "60.0%\n",
      "80.0%\n"
     ]
    },
    {
     "data": {
      "text/plain": "<Figure size 158.4x118.8 with 1 Axes>",
      "image/png": "[encoded data removed]"
     },
     "metadata": {
      "needs_background": "light"
     },
     "output_type": "display_data"
    }
   ],
   "source": [
    "t_eval = numpy.linspace(0, observe.samplesize * dt, observe.samplesize)\n",
    "sol = solve_ivp(f, [0, observe.samplesize * dt], [0], t_eval=t_eval)\n",
    "\n",
    "acc = 0\n",
    "accumulated_points = []\n",
    "for i in range(observe.samplesize):\n",
    "    accumulated_points.append(acc)\n",
    "    acc = s_n1(model, acc)\n",
    "    if i % 10000 == 0:\n",
    "        print(str((i / observe.samplesize) * 100) + \"%\")\n",
    "\n",
    "plt.title(\"Comparison of Arc Length of $(y_n, y_{n+1})$ and Integrated Neural Network Function $f$\")\n",
    "plt.ylabel(\"Arc length\")\n",
    "plt.plot(t_eval, sol.y[0], label=\"Neural network $f$ integrated\")\n",
    "plt.plot(t_eval, accumulated_points, label=\"Accumulated Arc Length\")\n",
    "plt.plot(t_eval[1:], alen, label=\"Real Arc Length\")\n",
    "plt.legend()\n",
    "plt.show()"
   ]
  },
  {
   "cell_type": "code",
   "execution_count": 268,
   "outputs": [
    {
     "data": {
      "text/plain": "<Figure size 129.6x90.72 with 1 Axes>",
      "image/png": "[encoded data removed]"
     },
     "metadata": {
      "needs_background": "light"
     },
     "output_type": "display_data"
    }
   ],
   "source": [
    "t_eval = numpy.linspace(0, observe.samplesize * dt, int(observe.samplesize))\n",
    "sol = solve_ivp(f, [0, observe.samplesize * dt], [0], t_eval=t_eval)\n",
    "\n",
    "# Comparison between original density of $y$ and neural reconstruction of $s$ transported with $y(s)$\n",
    "plt.title(\"Approximated $y$-desity\")\n",
    "plt.hist(numpy.transpose(observe.sample(0))[0], bins=80, density = True, label=\"Sampled Density of $y$\", rasterized=True)\n",
    "new_ys = [y_by_s(s) for s in sol.y[0]]\n",
    "plt.hist(new_ys, bins=80, density = True, label=\"Density of Neural estimated Arc Length\", color=TUMAccentGreen, rasterized=True)\n",
    "#plt.legend(loc=\"upper left\")\n",
    "no_axis(x=True)\n",
    "plt.ylabel(\"Density\")\n",
    "plt.xlabel(\"$y$\")\n",
    "plt.savefig(\"figures/1d/y-density-s-dynamics.pdf\", dpi=dpi, bbox_inches=\"tight\")\n",
    "plt.show()"
   ],
   "metadata": {
    "collapsed": false,
    "pycharm": {
     "name": "#%%\n"
    }
   }
  },
  {
   "cell_type": "markdown",
   "source": [
    "We can also use the integrated $f$ instead of the actual $s$ to learn to normalizing flow and then transport the density form x to y over s.\n",
    "\n",
    "If the function is learned well enough, there should be nearly no difference"
   ],
   "metadata": {
    "collapsed": false,
    "pycharm": {
     "name": "#%% md\n"
    }
   }
  },
  {
   "cell_type": "code",
   "execution_count": 20,
   "outputs": [
    {
     "name": "stdout",
     "output_type": "stream",
     "text": [
      "step: 0, loss: 1.3482999801635742\n",
      "step: 200, loss: 0.6042725443840027\n",
      "step: 400, loss: 0.59479820728302\n",
      "step: 600, loss: 0.5933177471160889\n",
      "step: 800, loss: 0.5926056504249573\n",
      "step: 1000, loss: 0.5923219919204712\n"
     ]
    },
    {
     "data": {
      "text/plain": "<Figure size 158.4x118.8 with 1 Axes>",
      "image/png": "[encoded data removed]"
     },
     "metadata": {
      "needs_background": "light"
     },
     "output_type": "display_data"
    }
   ],
   "source": [
    "s_integrated_flow_dist, s_integrated_transform = flows.utils.normal_to_samples(sol.y[0].reshape(-1, 1), normalize=True, steps=1001, lr=1e-2)\n",
    "s_integrated_flow_samples = s_integrated_flow_dist.sample(torch.Size([observe.samplesize])).detach().numpy()\n",
    "\n",
    "plt.title(\"Approximation of Neural Density of $s$\")\n",
    "plt.hist(sol.y[0], bins=200, density=True, label=\"Target\", rasterized=True)\n",
    "plt.hist(s_integrated_flow_samples, bins=200, density=True, label=\"Approximation\", color=TUMAccentGreen, rasterized=True)\n",
    "plt.legend()\n",
    "plt.show()"
   ],
   "metadata": {
    "collapsed": false,
    "pycharm": {
     "name": "#%%\n"
    }
   }
  },
  {
   "cell_type": "code",
   "execution_count": 266,
   "outputs": [
    {
     "data": {
      "text/plain": "<Figure size 129.6x90.72 with 1 Axes>",
      "image/png": "[encoded data removed]"
     },
     "metadata": {
      "needs_background": "light"
     },
     "output_type": "display_data"
    },
    {
     "data": {
      "text/plain": "<Figure size 129.6x90.72 with 1 Axes>",
      "image/png": "[encoded data removed]"
     },
     "metadata": {
      "needs_background": "light"
     },
     "output_type": "display_data"
    }
   ],
   "source": [
    "input = numpy.linspace(0, 1, 10002)[1:-1] # the erfinv causes problems with the bounds, so we remove 0 and 1\n",
    "input_normal = standard_gauss(input)\n",
    "mapped = s_integrated_transform(torch.tensor([[x] for x in input_normal])).detach().numpy()\n",
    "\n",
    "plt.title(\"Reconstructed $y$-density\")\n",
    "plt.hist(numpy.transpose(observe.sample(0))[0], bins=80, density = True, label=\"Sampled Density of $y$\", rasterized=True)\n",
    "plt.hist(y_by_s_vectorized(mapped), bins=bins, density=True, label=\"Approximated Density of $y$\", color=TUMAccentGreen, rasterized=True)\n",
    "#plt.legend(loc=\"upper left\")\n",
    "plt.ylabel(\"Density\")\n",
    "plt.xlabel(\"$x$\")\n",
    "no_axis(x=True)\n",
    "#plt.savefig(\"figures/1d/density-y-reconstructed.pdf\", dpi=dpi, bbox_inches=\"tight\")\n",
    "plt.show()\n",
    "\n",
    "plt.title(r\"Reconstructed Push-forward from $\\mathcal{U}_{[0,1]}$ to $y$\")\n",
    "plt.plot(input, [observe.T(x) for x in input], label=\"Real (unknown) push-forward\")\n",
    "plt.plot(input, uniform_real_s_y, label=\"Approximated push-forward (Arc Length)\")\n",
    "plt.plot(input, y_by_s_vectorized(mapped), label=\"Approximated push-forward (Learned Arc Length)\")\n",
    "plt.xlabel(r\"$x$\")\n",
    "plt.ylabel(\"$y$\")\n",
    "#plt.legend()\n",
    "plt.xlim(0, 1)\n",
    "plt.savefig(\"figures/1d/push-forward-uniform-y-full.pdf\", dpi=dpi, bbox_inches=\"tight\")\n",
    "plt.show()"
   ],
   "metadata": {
    "collapsed": false,
    "pycharm": {
     "name": "#%%\n"
    }
   }
  },
  {
   "cell_type": "code",
   "execution_count": 56,
   "outputs": [
    {
     "data": {
      "text/plain": "<Figure size 417.6x129.6 with 3 Axes>",
      "image/png": "[encoded data removed]"
     },
     "metadata": {
      "needs_background": "light"
     },
     "output_type": "display_data"
    }
   ],
   "source": [
    "# Generally, we need 2n + 1 (=3) time delay embeddings, but that does not mean that more are not useful\n",
    "ys_long = observe.sample(5)\n",
    "alen_2 = arclen([numpy.transpose(ys_long)[0], numpy.transpose(ys_long)[1]])\n",
    "alen_3 = arclen([numpy.transpose(ys_long)[0], numpy.transpose(ys_long)[1], numpy.transpose(ys_long)[2]])\n",
    "alen_4 = arclen([numpy.transpose(ys_long)[0], numpy.transpose(ys_long)[1], numpy.transpose(ys_long)[2], numpy.transpose(ys_long)[3]])\n",
    "alen_5 = arclen([numpy.transpose(ys_long)[0], numpy.transpose(ys_long)[1], numpy.transpose(ys_long)[2], numpy.transpose(ys_long)[3], numpy.transpose(ys_long)[4]])\n",
    "\n",
    "plt.subplots(1, 3, figsize=(5.8, 1.8))\n",
    "\n",
    "ttl = plt.gcf().suptitle(\"Number of Time Delays\")\n",
    "ttl.set_position([0.5, 1.2])\n",
    "\n",
    "\n",
    "plt.subplot(1, 3, 1)\n",
    "plt.plot(numpy.linspace(0, 1, observe.samplesize)[1:], alen_2, label = \"$i = 1$, $y_{n}, y_{n+1}$\")\n",
    "plt.plot(numpy.linspace(0, 1, observe.samplesize)[1:], alen_3, label = \"$i = 2$, $y_{n}, y_{n+1}, y_{n+2}$\")\n",
    "plt.plot(numpy.linspace(0, 1, observe.samplesize)[1:], alen_4, label = \"$i = 3$, $y_{n}, y_{n+1}, y_{n+2}, y_{n+3}$\")\n",
    "plt.plot(numpy.linspace(0, 1, observe.samplesize)[1:], alen_5, label = \"$i = 4$, $y_{n}, y_{n+1}, y_{n+2}, y_{n+3}, y_{n+4}$\")\n",
    "plt.xlabel(r'Position on $(y_n, y_{n+1}, \\dots)$')\n",
    "plt.ylabel('Arc length $s$')\n",
    "plt.xticks([0, 0.25, 0.5, 0.75, 1])\n",
    "plt.yticks([0, 2, 4, 6])\n",
    "plt.xlim(0, 1)\n",
    "\n",
    "alen_2_tuple_diff = [abs(t0 - t1) / dt for t0, t1 in list(zip(*lags(alen_2, 1)))]\n",
    "alen_3_tuple_diff = [abs(t0 - t1) / dt for t0, t1 in list(zip(*lags(alen_3, 1)))]\n",
    "alen_4_tuple_diff = [abs(t0 - t1) / dt for t0, t1 in list(zip(*lags(alen_4, 1)))]\n",
    "alen_5_tuple_diff = [abs(t0 - t1) / dt for t0, t1 in list(zip(*lags(alen_5, 1)))]\n",
    "\n",
    "#plt.title(\"The difference between the arc length tuples\") # TODO it  is not log scaled as of now\n",
    "plt.subplot(1, 3, 2)\n",
    "plt.plot(numpy.linspace(0, 1, observe.samplesize)[2:], alen_2_tuple_diff)\n",
    "plt.plot(numpy.linspace(0, 1, observe.samplesize)[2:], alen_3_tuple_diff)\n",
    "plt.plot(numpy.linspace(0, 1, observe.samplesize)[2:], alen_4_tuple_diff)\n",
    "plt.plot(numpy.linspace(0, 1, observe.samplesize)[2:], alen_5_tuple_diff)\n",
    "plt.xlim(0, 1)\n",
    "plt.ylim(0, alen_5_tuple_diff[0])\n",
    "plt.xlabel(r'Position on $(y_n, y_{n+1}, \\dots)$')\n",
    "plt.ylabel(\"Gradient\")\n",
    "plt.xticks([0, 0.25, 0.5, 0.75, 1])\n",
    "\n",
    "plt.subplot(1, 3, 2)\n",
    "plt.plot(numpy.linspace(0, 1, observe.samplesize)[2:], alen_2_tuple_diff)\n",
    "plt.plot(numpy.linspace(0, 1, observe.samplesize)[2:], alen_3_tuple_diff)\n",
    "plt.plot(numpy.linspace(0, 1, observe.samplesize)[2:], alen_4_tuple_diff)\n",
    "plt.plot(numpy.linspace(0, 1, observe.samplesize)[2:], alen_5_tuple_diff)\n",
    "plt.xlim(0, 1)\n",
    "plt.ylim(0, alen_5_tuple_diff[0])\n",
    "plt.yticks([0, 6, 12, 18])\n",
    "plt.xlabel(r'Position on $(y_n, y_{n+1}, \\dots)$')\n",
    "plt.ylabel(\"Gradient\")\n",
    "\n",
    "plt.subplot(1, 3, 3)\n",
    "plt.hist(alen_2, bins=200, density=True, rasterized=True)\n",
    "plt.hist(alen_3, bins=200, density=True, rasterized=True)\n",
    "plt.hist(alen_4, bins=200, density=True, rasterized=True)\n",
    "plt.hist(alen_5, bins=200, density=True, rasterized=True)\n",
    "plt.xlabel(\"$s$\")\n",
    "plt.ylabel(\"Density\")\n",
    "plt.xticks([0, 2, 4, 6])\n",
    "\n",
    "plt.tight_layout()\n",
    "\n",
    "from matplotlib.patches import Patch\n",
    "\n",
    "plt.legend(handles = [Patch(facecolor=TUMBlue, edgecolor=TUMBlue),\n",
    "                      Patch(facecolor=TUMAccentOrange, edgecolor=TUMAccentOrange),\n",
    "                      Patch(facecolor=TUMAccentGreen, edgecolor=TUMAccentGreen),\n",
    "                      Patch(facecolor=TUMSecondaryBlue2, edgecolor=TUMSecondaryBlue2)],   # The labels for each line\n",
    "           labels=[\"$(y_n, y_{n+1})$\", \"$(y_n, y_{n+1}, y_{n+2})$\", r\"$(y_n,  y_{n+1},  y_{n+2}, y_{n+3})$\", r\"$(y_n,  y_{n+1},  y_{n+2},  y_{n+3}, y_{n+4})$\"],   # The labels for each line\n",
    "           loc=\"upper center\",   # Position of legend\n",
    "           borderaxespad=0.1,    # Small spacing around legend box\n",
    "           title=\"\",  # Title for the legend\n",
    "           ncol=2,\n",
    "           frameon=False,\n",
    "           bbox_to_anchor=(-1, 1.75))\n",
    "\n",
    "plt.savefig(\"figures/1d/diffeomorphic-more-delays.pdf\", dpi=dpi, bbox_inches=\"tight\")\n",
    "plt.show()"
   ],
   "metadata": {
    "collapsed": false,
    "pycharm": {
     "name": "#%%\n"
    }
   }
  }
 ],
 "metadata": {
  "kernelspec": {
   "display_name": "Python 3",
   "language": "python",
   "name": "python3"
  },
  "language_info": {
   "codemirror_mode": {
    "name": "ipython",
    "version": 3
   },
   "file_extension": ".py",
   "mimetype": "text/x-python",
   "name": "python",
   "nbconvert_exporter": "python",
   "pygments_lexer": "ipython3",
   "version": "3.9.5"
  }
 },
 "nbformat": 4,
 "nbformat_minor": 1
}